{
 "cells": [
  {
   "cell_type": "code",
   "execution_count": 1,
   "id": "b6126857",
   "metadata": {},
   "outputs": [],
   "source": [
    "import os  \n",
    "os.chdir('./..')"
   ]
  },
  {
   "cell_type": "code",
   "execution_count": 2,
   "id": "6333ab50",
   "metadata": {},
   "outputs": [],
   "source": [
    "import sys\n",
    "from notebooks.main import PaReco\n",
    "import common\n",
    "\n",
    "try:\n",
    "    import magic\n",
    "except ImportError as err:\n",
    "    print (err)\n",
    "    sys.exit(-1)"
   ]
  },
  {
   "cell_type": "code",
   "execution_count": 3,
   "id": "00f9ba55",
   "metadata": {},
   "outputs": [],
   "source": [
    "#\"\"\"\n",
    " #   Read from list\n",
    "#\"\"\"\n",
    "# token_file = 'tokens.txt'\n",
    "token_file = '../../tokens.txt'\n",
    "\n",
    "token_list = []\n",
    "with open(token_file, 'r') as f:\n",
    "    for line in f.readlines():\n",
    "        token_list.append(line.strip('\\n'))\n",
    "\n",
    "\"\"\"\n",
    "    Manually add in notebook\n",
    "\"\"\"\n",
    "# token_list = [\"nadHJok13mdkaamda\", \"ajd1819kdamda\",\"...\"]\n",
    "\n",
    "lenTokens = len(token_list)"
   ]
  },
  {
   "cell_type": "markdown",
   "id": "2da1a607",
   "metadata": {},
   "source": [
    "Create a magic cookie. This is needed during classification"
   ]
  },
  {
   "cell_type": "code",
   "execution_count": 4,
   "id": "b8c4e4e0",
   "metadata": {},
   "outputs": [],
   "source": [
    "common.verbose = True\n",
    "\n",
    "try:\n",
    "    common.magic_cookie = magic.open(magic.MAGIC_MIME)\n",
    "    common.magic_cookie.load()\n",
    "except AttributeError:\n",
    "    common.magic_cookie = magic.Magic(mime=True, uncompress=True)\n",
    "common.verbose_print('[-] initialized magic cookie\\n')"
   ]
  },
  {
   "cell_type": "code",
   "execution_count": 5,
   "id": "c066d155",
   "metadata": {},
   "outputs": [],
   "source": [
    "data = (token_list)"
   ]
  },
  {
   "cell_type": "code",
   "execution_count": 6,
   "id": "0eadcd03",
   "metadata": {},
   "outputs": [],
   "source": [
    "example = PaReco(data)"
   ]
  },
  {
   "cell_type": "code",
   "execution_count": 7,
   "id": "5bc18cf9",
   "metadata": {},
   "outputs": [],
   "source": [
    "# pr_project_pair, pair_project = example.prepare_data()"
   ]
  },
  {
   "cell_type": "code",
   "execution_count": 8,
   "id": "4ab38645",
   "metadata": {},
   "outputs": [],
   "source": [
    "#pair_project"
   ]
  },
  {
   "cell_type": "code",
   "execution_count": 9,
   "id": "10ae70da",
   "metadata": {},
   "outputs": [],
   "source": [
    "pr_project_pair = {'2229': 'open-learning-exchange/myplanet',\n",
    " '2232': 'open-learning-exchange/myplanet',\n",
    " '2231': 'open-learning-exchange/myplanet',\n",
    " '2230': 'faker-js/faker',\n",
    " '2234': 'open-learning-exchange/myplanet',\n",
    " '50': 'boostcampwm2023/web15-BaekjoonRooms',\n",
    " '29': 'daydule/odyssey-frontend',\n",
    " '26': 'QRTaxi/QRTaxi_Web',\n",
    " '6250': 'SSWConsulting/SSW.Rules.Content',\n",
    " '7614': 'SSWConsulting/SSW.Rules.Content',\n",
    " '300': 'daeuniverse/dae',\n",
    " '2403': 'GaloyMoney/galoy-mobile',\n",
    " '2361': 'GaloyMoney/galoy-mobile',\n",
    " '2617': 'GaloyMoney/galoy-mobile',\n",
    " '24': 'ECMaker/blog',\n",
    " '3630': 'app-sre/qontract-reconcile',\n",
    " '80': 'mlhmz/family-task-tracking',\n",
    " '1638': 'TeamCodeStream/codestream',\n",
    " '1134': 'PrivateBin/PrivateBin',\n",
    " '296': 'konfuzio-ai/konfuzio-sdk',\n",
    " '678': 'swarmion/swarmion',\n",
    " '158': 'Hochfrequenz/kohlrahbi',\n",
    " '15485': 'netdata/netdata',\n",
    " '15455': 'netdata/netdata',\n",
    " '30': 'dswcodes0/StatChat',\n",
    " '277': 'bloxapp/ssv-web',\n",
    " '241': 'hacktoberfestkorea/hacktoberfestkorea',\n",
    " '52': 'viets-software-club/truffle-ai-backend',\n",
    " '114': 'shakacode/heroku-to-control-plane',\n",
    " '4558': 'temporalio/temporal',\n",
    " '83': 'maro114510/Markdown_Viewer',\n",
    " '23': 'MrNeRF/gaussian-splatting-cuda',\n",
    " '1284': 'SSWConsulting/SSW.Website',\n",
    " '931': 'SSWConsulting/SSW.Website',\n",
    " '62': 'qin-team-recipe/05-recipe-app',\n",
    " '897': 'reworkd/AgentGPT',\n",
    " '18': 'VOICEVOX/pyopenjtalk',\n",
    " '12': 'laravel-json-api/core',\n",
    " '199': 'citusdata/activerecord-multi-tenant',\n",
    " '5179': 'gradio-app/gradio',\n",
    " '38': 'StreamSG/ABCWorkshop',\n",
    " '1384': 'VOICEVOX/voicevox',\n",
    " '1404': 'VOICEVOX/voicevox',\n",
    " '1374': 'VOICEVOX/voicevox',\n",
    " '1470': 'VOICEVOX/voicevox',\n",
    " '1546': 'VOICEVOX/voicevox',\n",
    " '1573': 'VOICEVOX/voicevox',\n",
    " '1555': 'VOICEVOX/voicevox',\n",
    " '1790': 'VOICEVOX/voicevox',\n",
    " '1621': 'VOICEVOX/voicevox',\n",
    " '1775': 'ggerganov/llama.cpp',\n",
    " '1807': 'ggerganov/llama.cpp',\n",
    " '1684': 'ggerganov/llama.cpp',\n",
    " '712': 'telosnetwork/open-block-explorer',\n",
    " '508': 'dust-tt/dust',\n",
    " '581': 'skrub-data/skrub',\n",
    " '1571': 'Ludeon/RimWorld-ru',\n",
    " '1': 'pyspark-ai/pyspark-ai',\n",
    " '16': 'kazuki1023/template_ph3_website_private',\n",
    " '2405': 'faker-js/faker',\n",
    " '2658': 'faker-js/faker',\n",
    " '6456': 'PostHog/posthog.com',\n",
    " '2764': 'PolicyEngine/policyengine-us',\n",
    " '3937': 'snapshot-labs/snapshot',\n",
    " '261': 'internetarchive/iaux-collection-browser',\n",
    " '119': 'hufscheer/client',\n",
    " '27070': 'mdn/content',\n",
    " '30321': 'mdn/content',\n",
    " '151': 'astahmer/openapi-zod-client',\n",
    " '22429': 'jhipster/generator-jhipster',\n",
    " '25432': 'dotCMS/core',\n",
    " '9007': 'binary-com/deriv-app',\n",
    " '1936': 'osmosis-labs/osmosis-frontend',\n",
    " '716': 'VOICEVOX/voicevox_engine',\n",
    " '904': 'VOICEVOX/voicevox_engine',\n",
    " '177': 'roboflow/supervision',\n",
    " '379': 'nickbabcock/OhmGraphite',\n",
    " '1083': 'openai/evals',\n",
    " '648': 'Altinity/clickhouse-backup',\n",
    " '555': 'VOICEVOX/voicevox_core',\n",
    " '532': 'VOICEVOX/voicevox_core',\n",
    " '538': 'VOICEVOX/voicevox_core',\n",
    " '655': 'VOICEVOX/voicevox_core',\n",
    " '377': 'sashabaranov/go-openai',\n",
    " '608': 'ubiquity/ubiquibot',\n",
    " '12428': 'unoplatform/uno',\n",
    " '64': 'wahanegi/vibereport',\n",
    " '65': 'jwjacobson/jazz_repertoire',\n",
    " '19316': 'gravitational/teleport',\n",
    " '21': 'itpplasma/libneo',\n",
    " '880': 'SharezoneApp/sharezone-app',\n",
    " '980': 'SharezoneApp/sharezone-app',\n",
    " '79': '23-OSSCA-python-mysql-replication/python-mysql-replication',\n",
    " '1661': 'tinygrad/tinygrad',\n",
    " '5058': 'darklang/dark',\n",
    " '5087': 'darklang/dark',\n",
    " '5068': 'darklang/dark',\n",
    " '5063': 'darklang/dark',\n",
    " '54172': 'WordPress/gutenberg',\n",
    " '206': 'polywrap/evo.ninja',\n",
    " '167': 'polywrap/evo.ninja',\n",
    " '629': 'polywrap/evo.ninja',\n",
    " '752': 'datastax/cassandra',\n",
    " '191': 'sablier-labs/v2-periphery',\n",
    " '3130': 'cataclysmbnteam/Cataclysm-BN',\n",
    " '209': 'sCrypt-Inc/scryptTS-docs',\n",
    " '5602': 'rancher-sandbox/rancher-desktop',\n",
    " '4': 'c4dt/dela',\n",
    " '157': 'pyspark-ai/pyspark-ai',\n",
    " '279': 'facebookresearch/llama-recipes',\n",
    " '2446': 'lfortran/lfortran',\n",
    " '93': 'mongo-express/mongo-express-docker',\n",
    " '112': 'MERLCenter/MERL-Center-public',\n",
    " '4417': 'alcionai/corso',\n",
    " '297': 'opensearch-project/opensearch-migrations',\n",
    " '194': 'jawordpressorg/core-handbook',\n",
    " '2323': 'lcompilers/lpython',\n",
    " '539': 'mcagov/beacons',\n",
    " '878': 'adobe/aem-core-forms-components',\n",
    " '1295': 'rapidsai/cuspatial',\n",
    " '265': 'uchicago-cs/chigame',\n",
    " '223': 'nishiki-tech/nishiki-frontend',\n",
    " '184': 'nishiki-tech/nishiki-frontend',\n",
    " '670': 'marqo-ai/marqo',\n",
    " '28846': 'bitcoin/bitcoin',\n",
    " '57': 'rotary-genomics/rotary',\n",
    " '53': 'VyProductions/SeniorDesign',\n",
    " '51': 'VyProductions/SeniorDesign',\n",
    " '1988': 'joke2k/faker',\n",
    " '2272': 'zauberzeug/nicegui',\n",
    " '9': 'BolasLien/enjoyment-luxury-hotel',\n",
    " '6': 'exchange-wata/next.js14-tailwindcss-udemy-blog',\n",
    " '405': 'equinix/metal-cli',\n",
    " '301': 'langroid/langroid',\n",
    " '252': 'robotology/icub-models-generator',\n",
    " '102': 'Opetushallitus/ludos',\n",
    " '3081': 'skypilot-org/skypilot',\n",
    " '875': 'deso-protocol/core',\n",
    " '477': 'hackforla/CivicTechJobs',\n",
    " '400': 'camel-ai/camel',\n",
    " '8': 'MartinsOnuoha/what-should-i-design',\n",
    " '723': 'primer-io/primer-sdk-ios',\n",
    " '1754': 'openwallet-foundation/credo-ts',\n",
    " '9227': 'pass-culture/pass-culture-main',\n",
    " '2415': 'digitalbitbox/bitbox-wallet-app',\n",
    " '2368': 'digitalbitbox/bitbox-wallet-app',\n",
    " '796': 'etalab/annuaire-entreprises-site',\n",
    " '26792': 'gradle/gradle',\n",
    " '13': '40LF0/couple_project_backend',\n",
    " '4312': 'raspiblitz/raspiblitz',\n",
    " '198': 'whatwg/urlpattern',\n",
    " '1091': 'kube-hetzner/terraform-hcloud-kube-hetzner',\n",
    " '1631': 'netket/netket',\n",
    " '43': 'asadm/playroom-unity',\n",
    " '66': 'g12-4soat/tech-lanches',\n",
    " '138': 'usatie/pong',\n",
    " '522': 'sveltejs/learn.svelte.dev',\n",
    " '33679': 'airbytehq/airbyte',\n",
    " '16244': 'betagouv/beta.gouv.fr',\n",
    " '8230': 'codeigniter4/CodeIgniter4',\n",
    " '171': 'ory/elements',\n",
    " '448': 'unity-atoms/unity-atoms',\n",
    " '259': 'Altinn/altinn-broker',\n",
    " '2': 'kazuki1023/hackathon202402',\n",
    " '153': 'kbss-cvut/fta-fmea-ui',\n",
    " '338': 'pokt-network/poktroll',\n",
    " '185': 'pokt-network/poktroll',\n",
    " '284': 'pokt-network/poktroll',\n",
    " '220': 'pokt-network/poktroll',\n",
    " '3644': 'jsdom/jsdom',\n",
    " '349': 'testsigmahq/testsigma-docs',\n",
    " '25': 'customerio/gist-web',\n",
    " '128': 'unoplatform/workshops',\n",
    " '1061': 'codecrafters-io/frontend',\n",
    " '1528': 'SalesforceCommerceCloud/pwa-kit',\n",
    " '68': 'seamapi/seam-cli',\n",
    " '142': 'groundlight/python-sdk',\n",
    " '37': 'Bananapus/nana-core',\n",
    " '8136': 'chatwoot/chatwoot',\n",
    " '228': 'maybe-finance/maybe',\n",
    " '281': 'pyg-team/pytorch-frame',\n",
    " '734': 'sablier-labs/v2-core',\n",
    " '9991': 'mlflow/mlflow'}"
   ]
  },
  {
   "cell_type": "code",
   "execution_count": 10,
   "id": "0d29acc8",
   "metadata": {},
   "outputs": [],
   "source": [
    "# for pr in pr_project_pair:\n",
    "#     for i in pr_project_pair[pr]:\n",
    "#         print(pr_project_pair[pr][i][0]['filepath'])"
   ]
  },
  {
   "cell_type": "code",
   "execution_count": 11,
   "id": "13a0b823",
   "metadata": {},
   "outputs": [],
   "source": [
    "pr_project_pair_2 = {'2229': 'open-learning-exchange/myplanet',\n",
    " '2232': 'open-learning-exchange/myplanet',\n",
    " '2231': 'open-learning-exchange/myplanet',\n",
    " '2230': 'faker-js/faker',\n",
    " '2234': 'open-learning-exchange/myplanet',\n",
    " '50': '4dn-dcic/foursight-core',\n",
    " '29': 'QRTaxi/QRTaxi_Web',\n",
    " '26': 'QRTaxi/QRTaxi_Web',\n",
    " '6250': 'SSWConsulting/SSW.Rules.Content',\n",
    " '300': 'daeuniverse/dae',\n",
    " '2403': 'GaloyMoney/galoy-mobile',\n",
    " '2361': 'GaloyMoney/galoy-mobile',\n",
    " '2617': 'GaloyMoney/galoy-mobile',\n",
    " '3630': 'app-sre/qontract-reconcile',\n",
    " '80': 'mlhmz/family-task-tracking',\n",
    " '1638': 'TeamCodeStream/codestream',\n",
    " '1134': 'PrivateBin/PrivateBin',\n",
    " '296': 'konfuzio-ai/konfuzio-sdk',\n",
    " '678': 'swarmion/swarmion',\n",
    " '21': 'yzpocket/spring-cafeservice',\n",
    " '158': 'Hochfrequenz/kohlrahbi',\n",
    " '15485': 'netdata/netdata',\n",
    " '15455': 'netdata/netdata',\n",
    " '277': 'bloxapp/ssv-web',\n",
    " '241': 'autowarefoundation/autoware-github-actions',\n",
    " '52': 'viets-software-club/truffle-ai-backend',\n",
    " '114': 'arrocke/gloss-translation',\n",
    " '4558': 'temporalio/temporal',\n",
    " '23': 'MrNeRF/gaussian-splatting-cuda',\n",
    " '1284': 'SSWConsulting/SSW.Website',\n",
    " '931': 'SSWConsulting/SSW.Website',\n",
    " '62': 'qin-team-recipe/05-recipe-app',\n",
    " '897': 'reworkd/AgentGPT',\n",
    " '18': 'VOICEVOX/pyopenjtalk',\n",
    " '12': 'laravel-json-api/core',\n",
    " '199': 'citusdata/activerecord-multi-tenant',\n",
    " '5179': 'gradio-app/gradio',\n",
    " '38': 'StreamSG/ABCWorkshop',\n",
    " '1384': 'VOICEVOX/voicevox',\n",
    " '1404': 'VOICEVOX/voicevox',\n",
    " '1374': 'VOICEVOX/voicevox',\n",
    " '1470': 'VOICEVOX/voicevox',\n",
    " '1546': 'VOICEVOX/voicevox',\n",
    " '1573': 'VOICEVOX/voicevox',\n",
    " '1555': 'VOICEVOX/voicevox',\n",
    " '1775': 'ggerganov/llama.cpp',\n",
    " '1807': 'ggerganov/llama.cpp',\n",
    " '1684': 'ggerganov/llama.cpp',\n",
    " '712': 'telosnetwork/open-block-explorer',\n",
    " '508': 'dust-tt/dust',\n",
    " '581': 'skrub-data/skrub',\n",
    " '1571': 'Ludeon/RimWorld-ru',\n",
    " '1': 'pyspark-ai/pyspark-ai',\n",
    " '2405': 'faker-js/faker',\n",
    " '6456': 'PostHog/posthog.com',\n",
    " '838': 'CodeIntelligenceTesting/cifuzz',\n",
    " '2764': 'PolicyEngine/policyengine-us',\n",
    " '3937': 'snapshot-labs/snapshot',\n",
    " '261': 'internetarchive/iaux-collection-browser',\n",
    " '119': 'PaulRBerg/prb-proxy',\n",
    " '27070': 'mdn/content',\n",
    " '151': 'astahmer/openapi-zod-client',\n",
    " '22429': 'jhipster/generator-jhipster',\n",
    " '25432': 'dotCMS/core',\n",
    " '9007': 'binary-com/deriv-app',\n",
    " '1936': 'osmosis-labs/osmosis-frontend',\n",
    " '716': 'VOICEVOX/voicevox_engine',\n",
    " '177': 'roboflow/supervision',\n",
    " '379': 'nickbabcock/OhmGraphite',\n",
    " '1083': 'openai/evals',\n",
    " '648': 'Altinity/clickhouse-backup',\n",
    " '555': 'VOICEVOX/voicevox_core',\n",
    " '532': 'VOICEVOX/voicevox_core',\n",
    " '538': 'VOICEVOX/voicevox_core',\n",
    " '377': 'sashabaranov/go-openai',\n",
    " '608': 'ubiquity/ubiquibot',\n",
    " '12428': 'unoplatform/uno',\n",
    " '64': 'wahanegi/vibereport',\n",
    " '65': 'simonw/llm',\n",
    " '19316': 'gravitational/teleport',\n",
    " '880': 'SharezoneApp/sharezone-app',\n",
    " '980': 'SharezoneApp/sharezone-app',\n",
    " '79': '23-OSSCA-python-mysql-replication/python-mysql-replication',\n",
    " '1661': 'tinygrad/tinygrad',\n",
    " '5058': 'darklang/dark',\n",
    " '5087': 'darklang/dark',\n",
    " '5068': 'darklang/dark',\n",
    " '5063': 'darklang/dark',\n",
    " '54172': 'WordPress/gutenberg',\n",
    " '206': 'polywrap/evo.ninja',\n",
    " '167': 'polywrap/evo.ninja',\n",
    " '752': 'datastax/cassandra',\n",
    " '191': 'sablier-labs/v2-periphery',\n",
    " '3130': 'cataclysmbnteam/Cataclysm-BN',\n",
    " '209': 'sCrypt-Inc/scryptTS-docs',\n",
    " '5602': 'rancher-sandbox/rancher-desktop',\n",
    " '4': 'c4dt/dela',\n",
    " '157': 'pyspark-ai/pyspark-ai',\n",
    " '279': 'nylas/nylas-python',\n",
    " '2446': 'lfortran/lfortran',\n",
    " '93': 'mongo-express/mongo-express-docker',\n",
    " '112': 'MERLCenter/MERL-Center-public',\n",
    " '4417': 'alcionai/corso',\n",
    " '297': 'opensearch-project/opensearch-migrations',\n",
    " '194': 'jawordpressorg/core-handbook',\n",
    " '2323': 'lcompilers/lpython',\n",
    " '539': 'mcagov/beacons',\n",
    " '878': 'adobe/aem-core-forms-components'}"
   ]
  },
  {
   "cell_type": "code",
   "execution_count": 12,
   "id": "0dbe0bb1",
   "metadata": {},
   "outputs": [],
   "source": [
    "#len(pr_project_pair_2)"
   ]
  },
  {
   "cell_type": "code",
   "execution_count": 13,
   "id": "6bbdf38b",
   "metadata": {},
   "outputs": [],
   "source": [
    "#len(pr_project_pair)"
   ]
  },
  {
   "cell_type": "code",
   "execution_count": 14,
   "id": "cdc8d1fa",
   "metadata": {},
   "outputs": [
    {
     "name": "stdout",
     "output_type": "stream",
     "text": [
      "183\n"
     ]
    }
   ],
   "source": [
    "\n",
    "print(len(pr_project_pair.values()))"
   ]
  },
  {
   "cell_type": "code",
   "execution_count": 15,
   "id": "dc739446",
   "metadata": {},
   "outputs": [
    {
     "name": "stdout",
     "output_type": "stream",
     "text": [
      "145\n"
     ]
    }
   ],
   "source": [
    "print(len(set(pr_project_pair.values())))"
   ]
  },
  {
   "cell_type": "code",
   "execution_count": 16,
   "id": "822fe31b",
   "metadata": {},
   "outputs": [
    {
     "name": "stdout",
     "output_type": "stream",
     "text": [
      "======================================================================\n",
      "\n",
      "Starting classification for GitHub, - , ChatGPT...\n",
      "Classification finished.\n",
      "Classification Runtime: 940.8548302650452\n",
      "======================================================================\n",
      "======================================================================\n",
      "\n",
      "Bar plot of the patch classifications for GitHub -> ChatGPT\n"
     ]
    },
    {
     "data": {
      "image/png": "[encoded data removed]",
      "text/plain": [
       "<Figure size 1200x800 with 1 Axes>"
      ]
     },
     "metadata": {},
     "output_type": "display_data"
    }
   ],
   "source": [
    "example.run_classification(pr_project_pair)"
   ]
  },
  {
   "cell_type": "code",
   "execution_count": 17,
   "id": "b3569059",
   "metadata": {},
   "outputs": [],
   "source": [
    "#Patches\n",
    "patch_classes = example.df_patch_class()"
   ]
  },
  {
   "cell_type": "code",
   "execution_count": 18,
   "id": "2604dd78",
   "metadata": {},
   "outputs": [],
   "source": [
    "patch_classes.to_csv('output_patch_only.csv')"
   ]
  },
  {
   "cell_type": "code",
   "execution_count": 19,
   "id": "1c5878e3",
   "metadata": {},
   "outputs": [
    {
     "data": {
      "text/plain": [
       "(45, 5)"
      ]
     },
     "execution_count": 19,
     "metadata": {},
     "output_type": "execute_result"
    }
   ],
   "source": [
    "PA = patch_classes[patch_classes['Patch Classification'] == 'PA']\n",
    "PA = PA.drop_duplicates()\n",
    "PA.shape\n",
    "# PA.to_csv('ouput_patch_PA.csv')"
   ]
  },
  {
   "cell_type": "code",
   "execution_count": 20,
   "id": "b7272703",
   "metadata": {},
   "outputs": [
    {
     "data": {
      "text/plain": [
       "(90, 5)"
      ]
     },
     "execution_count": 20,
     "metadata": {},
     "output_type": "execute_result"
    }
   ],
   "source": [
    "NE = patch_classes[patch_classes['Patch Classification'] == 'NE']\n",
    "NE = NE.drop_duplicates()\n",
    "NE.shape\n",
    "# NE.to_csv('ouput_patch_NE.csv')"
   ]
  },
  {
   "cell_type": "code",
   "execution_count": 21,
   "id": "78a21249",
   "metadata": {},
   "outputs": [
    {
     "data": {
      "text/plain": [
       "(48, 5)"
      ]
     },
     "execution_count": 21,
     "metadata": {},
     "output_type": "execute_result"
    }
   ],
   "source": [
    "# patch_classes = example.df_patch_class()\n",
    "PN = patch_classes[patch_classes['Patch Classification'] == 'PN']\n",
    "PN = PN.drop_duplicates()\n",
    "PN.shape\n",
    "# PN.to_csv('ouput_patch_PN.csv')"
   ]
  },
  {
   "cell_type": "code",
   "execution_count": 22,
   "id": "8a404e15",
   "metadata": {},
   "outputs": [
    {
     "data": {
      "text/html": [
       "<div>\n",
       "<style scoped>\n",
       "    .dataframe tbody tr th:only-of-type {\n",
       "        vertical-align: middle;\n",
       "    }\n",
       "\n",
       "    .dataframe tbody tr th {\n",
       "        vertical-align: top;\n",
       "    }\n",
       "\n",
       "    .dataframe thead th {\n",
       "        text-align: right;\n",
       "    }\n",
       "</style>\n",
       "<table border=\"1\" class=\"dataframe\">\n",
       "  <thead>\n",
       "    <tr style=\"text-align: right;\">\n",
       "      <th></th>\n",
       "      <th>GitHub</th>\n",
       "      <th>ChatGPT</th>\n",
       "      <th>Pull Request</th>\n",
       "      <th>Patch Classification</th>\n",
       "      <th>Interesting</th>\n",
       "    </tr>\n",
       "  </thead>\n",
       "  <tbody>\n",
       "  </tbody>\n",
       "</table>\n",
       "</div>"
      ],
      "text/plain": [
       "Empty DataFrame\n",
       "Columns: [GitHub, ChatGPT, Pull Request, Patch Classification, Interesting]\n",
       "Index: []"
      ]
     },
     "execution_count": 22,
     "metadata": {},
     "output_type": "execute_result"
    }
   ],
   "source": [
    "CC = patch_classes[patch_classes['Patch Classification'] == 'CC']\n",
    "CC = CC.drop_duplicates()\n",
    "CC"
   ]
  },
  {
   "cell_type": "code",
   "execution_count": null,
   "id": "5bf38976",
   "metadata": {},
   "outputs": [],
   "source": []
  },
  {
   "cell_type": "code",
   "execution_count": 23,
   "id": "c0468a7a",
   "metadata": {},
   "outputs": [
    {
     "data": {
      "text/html": [
       "<div>\n",
       "<style scoped>\n",
       "    .dataframe tbody tr th:only-of-type {\n",
       "        vertical-align: middle;\n",
       "    }\n",
       "\n",
       "    .dataframe tbody tr th {\n",
       "        vertical-align: top;\n",
       "    }\n",
       "\n",
       "    .dataframe thead th {\n",
       "        text-align: right;\n",
       "    }\n",
       "</style>\n",
       "<table border=\"1\" class=\"dataframe\">\n",
       "  <thead>\n",
       "    <tr style=\"text-align: right;\">\n",
       "      <th></th>\n",
       "      <th>GitHub</th>\n",
       "      <th>ChatGPT</th>\n",
       "      <th>Pull Request</th>\n",
       "      <th>ChatGPT Patch</th>\n",
       "      <th>ChatGPTPatchLOC</th>\n",
       "      <th>GitHub Patch</th>\n",
       "      <th>GitHubPatchLOC</th>\n",
       "      <th>Operation</th>\n",
       "      <th>Similarity(%)</th>\n",
       "      <th>File Classification</th>\n",
       "      <th>Interesting</th>\n",
       "    </tr>\n",
       "  </thead>\n",
       "  <tbody>\n",
       "    <tr>\n",
       "      <th>36882</th>\n",
       "      <td>GitHub</td>\n",
       "      <td>ChatGPT</td>\n",
       "      <td>9991</td>\n",
       "      <td>notebooks/Repos_files/1/RepoData/mlflow/mlflow...</td>\n",
       "      <td>8</td>\n",
       "      <td>notebooks/Repos_files/1/RepoData/mlflow/mlflow...</td>\n",
       "      <td>33</td>\n",
       "      <td>ADDED</td>\n",
       "      <td>16.67</td>\n",
       "      <td>PA</td>\n",
       "      <td>1</td>\n",
       "    </tr>\n",
       "    <tr>\n",
       "      <th>36886</th>\n",
       "      <td>GitHub</td>\n",
       "      <td>ChatGPT</td>\n",
       "      <td>9991</td>\n",
       "      <td>notebooks/Repos_files/1/RepoData/mlflow/mlflow...</td>\n",
       "      <td>7</td>\n",
       "      <td>notebooks/Repos_files/1/RepoData/mlflow/mlflow...</td>\n",
       "      <td>33</td>\n",
       "      <td>ADDED</td>\n",
       "      <td>20.0</td>\n",
       "      <td>PA</td>\n",
       "      <td>1</td>\n",
       "    </tr>\n",
       "    <tr>\n",
       "      <th>36890</th>\n",
       "      <td>GitHub</td>\n",
       "      <td>ChatGPT</td>\n",
       "      <td>9991</td>\n",
       "      <td>notebooks/Repos_files/1/RepoData/mlflow/mlflow...</td>\n",
       "      <td>8</td>\n",
       "      <td>notebooks/Repos_files/1/RepoData/mlflow/mlflow...</td>\n",
       "      <td>33</td>\n",
       "      <td>ADDED</td>\n",
       "      <td>16.67</td>\n",
       "      <td>PA</td>\n",
       "      <td>1</td>\n",
       "    </tr>\n",
       "    <tr>\n",
       "      <th>36894</th>\n",
       "      <td>GitHub</td>\n",
       "      <td>ChatGPT</td>\n",
       "      <td>9991</td>\n",
       "      <td>notebooks/Repos_files/1/RepoData/mlflow/mlflow...</td>\n",
       "      <td>7</td>\n",
       "      <td>notebooks/Repos_files/1/RepoData/mlflow/mlflow...</td>\n",
       "      <td>33</td>\n",
       "      <td>ADDED</td>\n",
       "      <td>20.0</td>\n",
       "      <td>PA</td>\n",
       "      <td>1</td>\n",
       "    </tr>\n",
       "    <tr>\n",
       "      <th>36880</th>\n",
       "      <td>GitHub</td>\n",
       "      <td>ChatGPT</td>\n",
       "      <td>9991</td>\n",
       "      <td>notebooks/Repos_files/1/RepoData/mlflow/mlflow...</td>\n",
       "      <td>8</td>\n",
       "      <td>notebooks/Repos_files/1/RepoData/mlflow/mlflow...</td>\n",
       "      <td>13</td>\n",
       "      <td>None</td>\n",
       "      <td>0.0</td>\n",
       "      <td>PN</td>\n",
       "      <td>0</td>\n",
       "    </tr>\n",
       "    <tr>\n",
       "      <th>...</th>\n",
       "      <td>...</td>\n",
       "      <td>...</td>\n",
       "      <td>...</td>\n",
       "      <td>...</td>\n",
       "      <td>...</td>\n",
       "      <td>...</td>\n",
       "      <td>...</td>\n",
       "      <td>...</td>\n",
       "      <td>...</td>\n",
       "      <td>...</td>\n",
       "      <td>...</td>\n",
       "    </tr>\n",
       "    <tr>\n",
       "      <th>26566</th>\n",
       "      <td>GitHub</td>\n",
       "      <td>ChatGPT</td>\n",
       "      <td>102</td>\n",
       "      <td>notebooks/Repos_files/1/RepoData/Opetushallitu...</td>\n",
       "      <td>21</td>\n",
       "      <td>notebooks/Repos_files/1/RepoData/Opetushallitu...</td>\n",
       "      <td>107</td>\n",
       "      <td>None</td>\n",
       "      <td>0.0</td>\n",
       "      <td>PN</td>\n",
       "      <td>0</td>\n",
       "    </tr>\n",
       "    <tr>\n",
       "      <th>26567</th>\n",
       "      <td>GitHub</td>\n",
       "      <td>ChatGPT</td>\n",
       "      <td>102</td>\n",
       "      <td>notebooks/Repos_files/1/RepoData/Opetushallitu...</td>\n",
       "      <td>21</td>\n",
       "      <td>notebooks/Repos_files/1/RepoData/Opetushallitu...</td>\n",
       "      <td>143</td>\n",
       "      <td>None</td>\n",
       "      <td>0.0</td>\n",
       "      <td>PN</td>\n",
       "      <td>0</td>\n",
       "    </tr>\n",
       "    <tr>\n",
       "      <th>26568</th>\n",
       "      <td>GitHub</td>\n",
       "      <td>ChatGPT</td>\n",
       "      <td>102</td>\n",
       "      <td>notebooks/Repos_files/1/RepoData/Opetushallitu...</td>\n",
       "      <td>21</td>\n",
       "      <td>notebooks/Repos_files/1/RepoData/Opetushallitu...</td>\n",
       "      <td>26</td>\n",
       "      <td>None</td>\n",
       "      <td>0.0</td>\n",
       "      <td>PN</td>\n",
       "      <td>0</td>\n",
       "    </tr>\n",
       "    <tr>\n",
       "      <th>26571</th>\n",
       "      <td>GitHub</td>\n",
       "      <td>ChatGPT</td>\n",
       "      <td>102</td>\n",
       "      <td>notebooks/Repos_files/1/RepoData/Opetushallitu...</td>\n",
       "      <td>21</td>\n",
       "      <td>notebooks/Repos_files/1/RepoData/Opetushallitu...</td>\n",
       "      <td>14</td>\n",
       "      <td>None</td>\n",
       "      <td>0.0</td>\n",
       "      <td>PN</td>\n",
       "      <td>0</td>\n",
       "    </tr>\n",
       "    <tr>\n",
       "      <th>17756</th>\n",
       "      <td>GitHub</td>\n",
       "      <td>ChatGPT</td>\n",
       "      <td>1</td>\n",
       "      <td>notebooks/Repos_files/1/RepoData/pyspark-ai/py...</td>\n",
       "      <td>33</td>\n",
       "      <td>notebooks/Repos_files/1/RepoData/pyspark-ai/py...</td>\n",
       "      <td>33</td>\n",
       "      <td>None</td>\n",
       "      <td></td>\n",
       "      <td>NOT EXISTING</td>\n",
       "      <td>0</td>\n",
       "    </tr>\n",
       "  </tbody>\n",
       "</table>\n",
       "<p>36896 rows × 11 columns</p>\n",
       "</div>"
      ],
      "text/plain": [
       "       GitHub  ChatGPT Pull Request  \\\n",
       "36882  GitHub  ChatGPT         9991   \n",
       "36886  GitHub  ChatGPT         9991   \n",
       "36890  GitHub  ChatGPT         9991   \n",
       "36894  GitHub  ChatGPT         9991   \n",
       "36880  GitHub  ChatGPT         9991   \n",
       "...       ...      ...          ...   \n",
       "26566  GitHub  ChatGPT          102   \n",
       "26567  GitHub  ChatGPT          102   \n",
       "26568  GitHub  ChatGPT          102   \n",
       "26571  GitHub  ChatGPT          102   \n",
       "17756  GitHub  ChatGPT            1   \n",
       "\n",
       "                                           ChatGPT Patch  ChatGPTPatchLOC  \\\n",
       "36882  notebooks/Repos_files/1/RepoData/mlflow/mlflow...                8   \n",
       "36886  notebooks/Repos_files/1/RepoData/mlflow/mlflow...                7   \n",
       "36890  notebooks/Repos_files/1/RepoData/mlflow/mlflow...                8   \n",
       "36894  notebooks/Repos_files/1/RepoData/mlflow/mlflow...                7   \n",
       "36880  notebooks/Repos_files/1/RepoData/mlflow/mlflow...                8   \n",
       "...                                                  ...              ...   \n",
       "26566  notebooks/Repos_files/1/RepoData/Opetushallitu...               21   \n",
       "26567  notebooks/Repos_files/1/RepoData/Opetushallitu...               21   \n",
       "26568  notebooks/Repos_files/1/RepoData/Opetushallitu...               21   \n",
       "26571  notebooks/Repos_files/1/RepoData/Opetushallitu...               21   \n",
       "17756  notebooks/Repos_files/1/RepoData/pyspark-ai/py...               33   \n",
       "\n",
       "                                            GitHub Patch  GitHubPatchLOC  \\\n",
       "36882  notebooks/Repos_files/1/RepoData/mlflow/mlflow...              33   \n",
       "36886  notebooks/Repos_files/1/RepoData/mlflow/mlflow...              33   \n",
       "36890  notebooks/Repos_files/1/RepoData/mlflow/mlflow...              33   \n",
       "36894  notebooks/Repos_files/1/RepoData/mlflow/mlflow...              33   \n",
       "36880  notebooks/Repos_files/1/RepoData/mlflow/mlflow...              13   \n",
       "...                                                  ...             ...   \n",
       "26566  notebooks/Repos_files/1/RepoData/Opetushallitu...             107   \n",
       "26567  notebooks/Repos_files/1/RepoData/Opetushallitu...             143   \n",
       "26568  notebooks/Repos_files/1/RepoData/Opetushallitu...              26   \n",
       "26571  notebooks/Repos_files/1/RepoData/Opetushallitu...              14   \n",
       "17756  notebooks/Repos_files/1/RepoData/pyspark-ai/py...              33   \n",
       "\n",
       "      Operation Similarity(%) File Classification  Interesting  \n",
       "36882     ADDED         16.67                  PA            1  \n",
       "36886     ADDED          20.0                  PA            1  \n",
       "36890     ADDED         16.67                  PA            1  \n",
       "36894     ADDED          20.0                  PA            1  \n",
       "36880      None           0.0                  PN            0  \n",
       "...         ...           ...                 ...          ...  \n",
       "26566      None           0.0                  PN            0  \n",
       "26567      None           0.0                  PN            0  \n",
       "26568      None           0.0                  PN            0  \n",
       "26571      None           0.0                  PN            0  \n",
       "17756      None                      NOT EXISTING            0  \n",
       "\n",
       "[36896 rows x 11 columns]"
      ]
     },
     "execution_count": 23,
     "metadata": {},
     "output_type": "execute_result"
    }
   ],
   "source": [
    "#Files\n",
    "example.df_file_class()"
   ]
  },
  {
   "cell_type": "code",
   "execution_count": 24,
   "id": "a62e5e4c",
   "metadata": {},
   "outputs": [],
   "source": [
    "df = example.df_file_class()\n",
    "# df.to_csv('ouput_patch_classification.csv')"
   ]
  },
  {
   "cell_type": "code",
   "execution_count": 25,
   "id": "41aedbce",
   "metadata": {},
   "outputs": [
    {
     "data": {
      "text/plain": [
       "183"
      ]
     },
     "execution_count": 25,
     "metadata": {},
     "output_type": "execute_result"
    }
   ],
   "source": [
    "len(pr_project_pair)"
   ]
  },
  {
   "cell_type": "code",
   "execution_count": 26,
   "id": "87f99b34",
   "metadata": {},
   "outputs": [
    {
     "data": {
      "text/plain": [
       "(45, 11)"
      ]
     },
     "execution_count": 26,
     "metadata": {},
     "output_type": "execute_result"
    }
   ],
   "source": [
    "PA = df[df['File Classification'] == 'PA']\n",
    "PA = PA.drop_duplicates('Pull Request', keep='last')\n",
    "PA.shape\n",
    "# PA.to_csv('ouput_File_PA.csv')"
   ]
  }
 ],
 "metadata": {
  "kernelspec": {
   "display_name": "Python 3",
   "language": "python",
   "name": "python3"
  },
  "language_info": {
   "codemirror_mode": {
    "name": "ipython",
    "version": 3
   },
   "file_extension": ".py",
   "mimetype": "text/x-python",
   "name": "python",
   "nbconvert_exporter": "python",
   "pygments_lexer": "ipython3",
   "version": "3.10.1"
  }
 },
 "nbformat": 4,
 "nbformat_minor": 5
}
